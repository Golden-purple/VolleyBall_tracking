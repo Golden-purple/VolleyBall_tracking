{
 "cells": [
  {
   "cell_type": "code",
   "execution_count": 2,
   "metadata": {},
   "outputs": [],
   "source": [
    "import cv2 as cv\n",
    "import matplotlib.pyplot as plt\n",
    "import numpy as np"
   ]
  },
  {
   "cell_type": "code",
   "execution_count": 35,
   "metadata": {},
   "outputs": [],
   "source": [
    "capture = cv.VideoCapture(\"volleyball_match.mp4\") \n",
    "\n",
    "fullbody_cascade = cv.CascadeClassifier(\"haar_full.xml\")\n",
    "\n",
    "while True:\n",
    "    \n",
    "    isTrue , frame = capture.read()\n",
    "    \n",
    "    blur = cv.GaussianBlur(frame , (5,5) , cv.BORDER_DEFAULT)\n",
    "    \n",
    "    gray = cv.cvtColor(blur , cv.COLOR_BGR2GRAY)\n",
    "\n",
    "    magnitude = cv.Canny(blur , 125 , 175)\n",
    "    \n",
    "    ret , thresh = cv.threshold(magnitude , 100 , 255 ,  cv.THRESH_BINARY)\n",
    "    \n",
    "    contours , hierarchies = cv.findContours(thresh , cv.RETR_LIST , cv.CHAIN_APPROX_SIMPLE)\n",
    "    \n",
    "    for contour in contours :\n",
    "        \n",
    "        perimeter = cv.arcLength(contour, True)\n",
    "        if(perimeter == 0) :\n",
    "            continue  \n",
    "        \n",
    "        area = cv.contourArea(contour)\n",
    "        circularity = 4 * 3.14 * (area / (perimeter * perimeter))\n",
    "        \n",
    "        if(area > 100  or area < 95  or circularity < 0.75) :\n",
    "            continue\n",
    "            \n",
    "        x, y, w, h = cv.boundingRect(contour)\n",
    "        cv.rectangle(frame, (x-10, y-10), (x + w + 10, y + h + 10), (2, 255 , 0), thickness = 2)\n",
    "        cv.putText(frame, \"VolleyBall\", (x, y - 10), cv.FONT_HERSHEY_SIMPLEX, 0.6, (0, 255, 0), 2)\n",
    "              \n",
    "      \n",
    "    cv.imshow(\"VolleyBall Tracker\" , frame) \n",
    "    \n",
    "    \n",
    "    if(not isTrue) :\n",
    "        break \n",
    "    if cv.waitKey(15) & 0xFF == ord('d') : \n",
    "        break\n",
    "        \n",
    "capture.release()  \n",
    "cv.destroyAllWindows() "
   ]
  },
  {
   "cell_type": "code",
   "execution_count": null,
   "metadata": {},
   "outputs": [],
   "source": []
  },
  {
   "cell_type": "code",
   "execution_count": null,
   "metadata": {},
   "outputs": [],
   "source": []
  },
  {
   "cell_type": "code",
   "execution_count": null,
   "metadata": {},
   "outputs": [],
   "source": []
  },
  {
   "cell_type": "code",
   "execution_count": null,
   "metadata": {},
   "outputs": [],
   "source": []
  },
  {
   "cell_type": "code",
   "execution_count": null,
   "metadata": {},
   "outputs": [],
   "source": []
  },
  {
   "cell_type": "code",
   "execution_count": null,
   "metadata": {},
   "outputs": [],
   "source": []
  },
  {
   "cell_type": "code",
   "execution_count": null,
   "metadata": {},
   "outputs": [],
   "source": []
  },
  {
   "cell_type": "code",
   "execution_count": null,
   "metadata": {},
   "outputs": [],
   "source": []
  },
  {
   "cell_type": "code",
   "execution_count": null,
   "metadata": {},
   "outputs": [],
   "source": []
  },
  {
   "cell_type": "code",
   "execution_count": null,
   "metadata": {},
   "outputs": [],
   "source": []
  },
  {
   "cell_type": "code",
   "execution_count": null,
   "metadata": {},
   "outputs": [],
   "source": []
  },
  {
   "cell_type": "code",
   "execution_count": null,
   "metadata": {},
   "outputs": [],
   "source": []
  },
  {
   "cell_type": "code",
   "execution_count": null,
   "metadata": {},
   "outputs": [],
   "source": []
  },
  {
   "cell_type": "code",
   "execution_count": null,
   "metadata": {},
   "outputs": [],
   "source": []
  },
  {
   "cell_type": "code",
   "execution_count": null,
   "metadata": {},
   "outputs": [],
   "source": []
  },
  {
   "cell_type": "code",
   "execution_count": null,
   "metadata": {},
   "outputs": [],
   "source": []
  },
  {
   "cell_type": "code",
   "execution_count": null,
   "metadata": {},
   "outputs": [],
   "source": []
  },
  {
   "cell_type": "code",
   "execution_count": null,
   "metadata": {},
   "outputs": [],
   "source": []
  },
  {
   "cell_type": "code",
   "execution_count": null,
   "metadata": {},
   "outputs": [],
   "source": []
  },
  {
   "cell_type": "code",
   "execution_count": 36,
   "metadata": {},
   "outputs": [],
   "source": [
    "import cv2 as cv\n",
    "import numpy as np\n",
    "\n",
    "capture = cv.VideoCapture(\"volleyball_match.mp4\")\n",
    "\n",
    "fullbody_cascade = cv.CascadeClassifier(\"haar_full.xml\")\n",
    "\n",
    "isTrue, prev_frame = capture.read()\n",
    "prev_gray = cv.cvtColor(prev_frame, cv.COLOR_BGR2GRAY)\n",
    "prev_blur = cv.GaussianBlur(prev_gray, (5, 5), cv.BORDER_DEFAULT)\n",
    "\n",
    "while True:\n",
    "    isTrue, frame = capture.read()\n",
    "    if not isTrue:\n",
    "        break\n",
    "\n",
    "    blur = cv.GaussianBlur(frame, (5, 5), cv.BORDER_DEFAULT)\n",
    "    gray = cv.cvtColor(blur, cv.COLOR_BGR2GRAY)\n",
    "    diff = cv.absdiff(prev_blur, gray)\n",
    "    _, motion_mask = cv.threshold(diff, 20, 255, cv.THRESH_BINARY)\n",
    "    motion_mask = cv.dilate(motion_mask, None, iterations=2) \n",
    "    red_count = 0\n",
    "    yellow_count = 0\n",
    "    bodies = fullbody_cascade.detectMultiScale(gray, scaleFactor=1.1, minNeighbors=3)\n",
    "\n",
    "    for (x, y, w, h) in bodies:\n",
    "        motion_roi = motion_mask[y:y+h, x:x+w]\n",
    "        if cv.countNonZero(motion_roi) < 100:\n",
    "            continue\n",
    "\n",
    "        person_roi = frame[y:y+h, x:x+w]\n",
    "        hsv_roi = cv.cvtColor(person_roi, cv.COLOR_BGR2HSV)\n",
    "        mask_red = cv.inRange(hsv_roi, (0, 70, 50), (10, 255, 255)) \n",
    "        mask_yellow = cv.inRange(hsv_roi, (20, 100, 100), (35, 255, 255))\n",
    "        red_pixels = cv.countNonZero(mask_red)\n",
    "        yellow_pixels = cv.countNonZero(mask_yellow)\n",
    "\n",
    "        if red_pixels > yellow_pixels and red_pixels > 100:\n",
    "            red_count += 1\n",
    "            color = (0, 0, 255)\n",
    "            label = \"Red Player\"\n",
    "        elif yellow_pixels > red_pixels and yellow_pixels > 100:\n",
    "            yellow_count += 1\n",
    "            color = (0, 255, 255)\n",
    "            label = \"Yellow Player\"\n",
    "        else:\n",
    "            continue\n",
    "\n",
    "        cv.rectangle(frame, (x, y), (x + w, y + h), color, 2)\n",
    "        cv.putText(frame, label, (x, y - 5), cv.FONT_HERSHEY_SIMPLEX, 0.6, color, 2)\n",
    "\n",
    "    cv.putText(frame, f\"Red Players: {red_count}\", (20, 30),\n",
    "               cv.FONT_HERSHEY_SIMPLEX, 0.8, (0, 0, 255), 2)\n",
    "    cv.putText(frame, f\"Yellow Players: {yellow_count}\", (20, 60),\n",
    "               cv.FONT_HERSHEY_SIMPLEX, 0.8, (0, 255, 255), 2)\n",
    "    magnitude = cv.Canny(blur, 125, 175)\n",
    "    combined = cv.bitwise_and(magnitude, motion_mask)\n",
    "\n",
    "    ret, thresh = cv.threshold(combined, 100, 255, cv.THRESH_BINARY)\n",
    "    contours, hierarchies = cv.findContours(thresh, cv.RETR_LIST, cv.CHAIN_APPROX_SIMPLE)\n",
    "    for contour in contours:\n",
    "        perimeter = cv.arcLength(contour, True)\n",
    "        if perimeter == 0:\n",
    "            continue\n",
    "\n",
    "        area = cv.contourArea(contour)\n",
    "        circularity = 4 * 3.14 * (area / (perimeter * perimeter))\n",
    "\n",
    "        if area > 100 or area < 95 or circularity < 0.75:\n",
    "            continue\n",
    "\n",
    "        x, y, w, h = cv.boundingRect(contour)\n",
    "        cv.rectangle(frame, (x - 10, y - 10), (x + w + 10, y + h + 10), (0, 255, 0), thickness=2)\n",
    "        cv.putText(frame, \"VolleyBall\", (x, y - 10), cv.FONT_HERSHEY_SIMPLEX, 0.6, (0, 255, 0), 2)\n",
    "\n",
    "    cv.imshow(\"VolleyBall Tracker\", frame)\n",
    "\n",
    "    prev_blur = gray.copy()\n",
    "\n",
    "    if cv.waitKey(15) & 0xFF == ord('d'):\n",
    "        break\n",
    "\n",
    "capture.release()\n",
    "cv.destroyAllWindows()\n"
   ]
  },
  {
   "cell_type": "code",
   "execution_count": null,
   "metadata": {},
   "outputs": [],
   "source": []
  }
 ],
 "metadata": {
  "kernelspec": {
   "display_name": "Python 3",
   "language": "python",
   "name": "python3"
  },
  "language_info": {
   "codemirror_mode": {
    "name": "ipython",
    "version": 3
   },
   "file_extension": ".py",
   "mimetype": "text/x-python",
   "name": "python",
   "nbconvert_exporter": "python",
   "pygments_lexer": "ipython3",
   "version": "3.8.5"
  }
 },
 "nbformat": 4,
 "nbformat_minor": 4
}
